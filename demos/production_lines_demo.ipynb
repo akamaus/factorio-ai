{
 "cells": [
  {
   "cell_type": "code",
   "execution_count": 1,
   "metadata": {},
   "outputs": [],
   "source": [
    "from factory_theory import Factory\n",
    "from plotting import plot_factory\n",
    "from time import time\n",
    "\n",
    "import factory_theory.primitives as P"
   ]
  },
  {
   "cell_type": "code",
   "execution_count": null,
   "metadata": {},
   "outputs": [],
   "source": []
  },
  {
   "cell_type": "code",
   "execution_count": 29,
   "metadata": {},
   "outputs": [],
   "source": [
    "import numpy as np\n",
    "def measure_time(nmachines):\n",
    "    f = Factory()\n",
    "    m1 = f.new_machine(color='b')\n",
    "    pl = f.new_production_line(num_machines=nmachines, machine_size=3, num_inputs=1, color='g')\n",
    "    m3 = f.new_machine(color='r')\n",
    "\n",
    "    #\n",
    "    f.connect_with_inserter(m1, pl.input(0))\n",
    "    #f.connect_with_inserter(m3, pl.input(0))\n",
    "    f.connect_with_inserter(pl.output(), m3)\n",
    "\n",
    "    model = f.finalize_and_model()\n",
    "    assert model is not None\n",
    "    return f.elapsed_time\n",
    "\n",
    "\n",
    "def time_stats(nmachines, tries):\n",
    "    times = []\n",
    "    for k in range(tries):\n",
    "        times.append(measure_time(nmachines))\n",
    "    return nmachines, np.mean(times), np.std(times)\n",
    "\n",
    "res = []\n",
    "\n",
    "for nm in range(1, 100, 10):\n",
    "    res.append(time_stats(nm, 10))\n"
   ]
  },
  {
   "cell_type": "code",
   "execution_count": 22,
   "metadata": {},
   "outputs": [],
   "source": [
    "import matplotlib.pyplot as plt"
   ]
  },
  {
   "cell_type": "code",
   "execution_count": 28,
   "metadata": {},
   "outputs": [
    {
     "data": {
      "text/plain": [
       "<ErrorbarContainer object of 3 artists>"
      ]
     },
     "execution_count": 28,
     "metadata": {},
     "output_type": "execute_result"
    },
    {
     "data": {
      "image/png": "[encoded data removed]",
      "text/plain": [
       "<Figure size 432x288 with 1 Axes>"
      ]
     },
     "metadata": {
      "needs_background": "light"
     },
     "output_type": "display_data"
    }
   ],
   "source": [
    "res = np.array(res)\n",
    "plt.errorbar(res[:,0], res[:,1], res[:,2])"
   ]
  },
  {
   "cell_type": "markdown",
   "metadata": {},
   "source": [
    "# Composing large processing lines"
   ]
  },
  {
   "cell_type": "code",
   "execution_count": 6,
   "metadata": {},
   "outputs": [],
   "source": [
    "from factory_theory import Factory\n",
    "from plotting import plot_factory\n",
    "from time import time\n",
    "\n",
    "import factory_theory.primitives as P"
   ]
  },
  {
   "cell_type": "code",
   "execution_count": 7,
   "metadata": {},
   "outputs": [
    {
     "data": {
      "text/plain": [
       "<factory_theory.primitives.Inserter at 0x7f9cd43eee90>"
      ]
     },
     "execution_count": 7,
     "metadata": {},
     "output_type": "execute_result"
    }
   ],
   "source": [
    "S1 = 6\n",
    "S2 = 4\n",
    "S3 = S2\n",
    "f = Factory()\n",
    "p1 = f.new_production_line(num_machines=S1, machine_size=2, num_inputs=0, auto_output=True, color='b')\n",
    "p2 = f.new_production_line(num_machines=S2, machine_size=3, num_inputs=1, color='g')\n",
    "p3 = f.new_production_line(num_machines=S3, machine_size=3, num_inputs=1, color='r')\n",
    "\n",
    "f.connect_with_inserter(p1.output(), p2.input(0))\n",
    "f.connect_with_inserter(p2.output(), p3.input(0))\n",
    "\n",
    "#f.connect_with_inserter(m3, pl.input(0))\n"
   ]
  },
  {
   "cell_type": "code",
   "execution_count": 8,
   "metadata": {},
   "outputs": [
    {
     "name": "stdout",
     "output_type": "stream",
     "text": [
      "LBU 0 None None\n",
      "R=1; T=0.031\n",
      "V= 38\n",
      "LBU 0 19 38\n",
      "R=-1; T=0.005\n",
      "LBU 20 29 38\n",
      "R=-1; T=0.013\n",
      "LBU 30 34 38\n",
      "R=1; T=0.020\n",
      "V= 34\n",
      "LBU 30 32 34\n",
      "R=1; T=0.008\n",
      "V= 32\n",
      "LBU 30 31 32\n",
      "R=1; T=0.010\n",
      "V= 31\n",
      "LBU 30 30 31\n",
      "R=-1; T=0.026\n"
     ]
    },
    {
     "data": {
      "image/png": "[encoded data removed]",
      "text/plain": [
       "<Figure size 432x432 with 1 Axes>"
      ]
     },
     "metadata": {},
     "output_type": "display_data"
    }
   ],
   "source": [
    "metric = f.area.size.x + f.area.size.y\n",
    "model = f.finalize_and_model(minimize_metric=metric)\n",
    "plot_factory(f, size=(6,6))"
   ]
  },
  {
   "cell_type": "code",
   "execution_count": 9,
   "metadata": {},
   "outputs": [
    {
     "data": {
      "text/plain": [
       "Point2D(11,-15)"
      ]
     },
     "execution_count": 9,
     "metadata": {},
     "output_type": "execute_result"
    }
   ],
   "source": [
    "p1.output().eval()"
   ]
  },
  {
   "cell_type": "code",
   "execution_count": 10,
   "metadata": {},
   "outputs": [
    {
     "data": {
      "text/plain": [
       "Point2D(0,-17)"
      ]
     },
     "execution_count": 10,
     "metadata": {},
     "output_type": "execute_result"
    }
   ],
   "source": [
    "p1.area.pos.eval()"
   ]
  },
  {
   "cell_type": "code",
   "execution_count": 11,
   "metadata": {},
   "outputs": [
    {
     "data": {
      "text/plain": [
       "<factory_theory.primitives.Inserter at 0x7f9cd461c8d0>"
      ]
     },
     "execution_count": 11,
     "metadata": {},
     "output_type": "execute_result"
    }
   ],
   "source": [
    "S1 = 15\n",
    "S2 = 10\n",
    "S3 = S2\n",
    "f = Factory()\n",
    "p1 = f.new_production_line(num_machines=S1, machine_size=2, num_inputs=0, auto_output=True, color='b')\n",
    "p2 = f.new_production_line(num_machines=S2, machine_size=3, num_inputs=1, color='g')\n",
    "p3 = f.new_production_line(num_machines=S3, machine_size=3, num_inputs=1, color='r')\n",
    "\n",
    "f.connect_with_inserter(p1.output(), p2.input(0))\n",
    "f.connect_with_inserter(p2.output(), p3.input(0))"
   ]
  },
  {
   "cell_type": "code",
   "execution_count": 12,
   "metadata": {},
   "outputs": [
    {
     "name": "stdout",
     "output_type": "stream",
     "text": [
      "LBU 0 None None\n",
      "R=1; T=0.046\n",
      "V= 108\n",
      "LBU 0 54 108\n",
      "R=1; T=0.009\n",
      "V= 54\n",
      "LBU 0 27 54\n",
      "R=-1; T=0.001\n",
      "LBU 28 41 54\n",
      "R=-1; T=0.003\n",
      "LBU 42 48 54\n",
      "R=-1; T=0.025\n",
      "LBU 49 51 54\n",
      "R=1; T=0.020\n",
      "V= 51\n",
      "LBU 49 50 51\n",
      "R=1; T=0.009\n",
      "V= 50\n",
      "LBU 49 49 50\n",
      "R=1; T=0.009\n",
      "V= 49\n"
     ]
    },
    {
     "data": {
      "image/png": "[encoded data removed]",
      "text/plain": [
       "<Figure size 432x432 with 1 Axes>"
      ]
     },
     "metadata": {},
     "output_type": "display_data"
    }
   ],
   "source": [
    "metric = f.area.size.x + f.area.size.y\n",
    "model = f.finalize_and_model(minimize_metric=metric)\n",
    "plot_factory(f, size=(6,6))"
   ]
  },
  {
   "cell_type": "code",
   "execution_count": 13,
   "metadata": {},
   "outputs": [
    {
     "data": {
      "text/plain": [
       "<factory_theory.primitives.Inserter at 0x7f9cc81b2310>"
      ]
     },
     "execution_count": 13,
     "metadata": {},
     "output_type": "execute_result"
    }
   ],
   "source": [
    "S1 = 6\n",
    "S2 = 4\n",
    "S3 = S2\n",
    "f = Factory()\n",
    "r1 = f.new_production_line(num_machines=S1, machine_size=2, num_inputs=0, auto_output=True, color='b')\n",
    "r2 = f.new_production_line(num_machines=S1, machine_size=2, num_inputs=0, auto_output=True, color='g')\n",
    "p1 = f.new_production_line(num_machines=S2, machine_size=3, num_inputs=2, color='y')\n",
    "p2 = f.new_production_line(num_machines=S2, machine_size=3, num_inputs=1, color='r')\n",
    "#p3 = f.new_production_line(num_machines=S3, machine_size=3, num_inputs=1, color='r')\n",
    "\n",
    "f.connect_with_inserter(r1.output(), p1.input(0))\n",
    "f.connect_with_inserter(r2.output(), p1.input(1))\n",
    "f.connect_with_inserter(p1.output(), p2.input(0))"
   ]
  },
  {
   "cell_type": "code",
   "execution_count": 14,
   "metadata": {},
   "outputs": [
    {
     "name": "stdout",
     "output_type": "stream",
     "text": [
      "LBU 0 None None\n",
      "R=1; T=0.073\n",
      "V= 41\n",
      "LBU 0 20 41\n",
      "R=-1; T=0.010\n",
      "LBU 21 31 41\n",
      "R=-1; T=0.039\n",
      "LBU 32 36 41\n",
      "R=-1; T=0.049\n",
      "LBU 37 39 41\n",
      "R=1; T=0.078\n",
      "V= 39\n",
      "LBU 37 38 39\n",
      "R=1; T=0.020\n",
      "V= 38\n",
      "LBU 37 37 38\n",
      "R=1; T=0.081\n",
      "V= 37\n"
     ]
    },
    {
     "data": {
      "image/png": "[encoded data removed]",
      "text/plain": [
       "<Figure size 432x432 with 1 Axes>"
      ]
     },
     "metadata": {},
     "output_type": "display_data"
    }
   ],
   "source": [
    "metric = f.area.size.x + f.area.size.y\n",
    "model = f.finalize_and_model(minimize_metric=metric)\n",
    "#model = f.finalize_and_model()\n",
    "plot_factory(f, size=(6,6))"
   ]
  },
  {
   "cell_type": "code",
   "execution_count": null,
   "metadata": {},
   "outputs": [],
   "source": []
  }
 ],
 "metadata": {
  "kernelspec": {
   "display_name": "Python 3",
   "language": "python",
   "name": "python3"
  },
  "language_info": {
   "codemirror_mode": {
    "name": "ipython",
    "version": 3
   },
   "file_extension": ".py",
   "mimetype": "text/x-python",
   "name": "python",
   "nbconvert_exporter": "python",
   "pygments_lexer": "ipython3",
   "version": "3.7.6"
  }
 },
 "nbformat": 4,
 "nbformat_minor": 4
}
