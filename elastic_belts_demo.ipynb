{
 "cells": [
  {
   "cell_type": "code",
   "execution_count": 1,
   "metadata": {},
   "outputs": [],
   "source": [
    "from time import time\n",
    "\n",
    "from primitives import SOL, IntVal, Belt, no_intersections"
   ]
  },
  {
   "cell_type": "code",
   "execution_count": 2,
   "metadata": {},
   "outputs": [],
   "source": [
    "import matplotlib.pyplot as plt\n",
    "def plot_belt(belt, color='b'):\n",
    "    xs = []\n",
    "    ys = []\n",
    "    pts = belt.eval_points()\n",
    "    for p in pts:\n",
    "        xs.append(p[0])\n",
    "        ys.append(p[1])\n",
    "    plt.plot(xs, ys, '*-', color=color)"
   ]
  },
  {
   "cell_type": "code",
   "execution_count": 3,
   "metadata": {},
   "outputs": [
    {
     "data": {
      "image/png": "[encoded data removed]",
      "text/plain": [
       "<Figure size 144x144 with 1 Axes>"
      ]
     },
     "metadata": {
      "needs_background": "light"
     },
     "output_type": "display_data"
    }
   ],
   "source": [
    "SOL.fresh_solver()\n",
    "\n",
    "belt_red = Belt()\n",
    "belt_red.fix_ends((0,0), (4, 4))\n",
    "\n",
    "\n",
    "sz = IntVal()\n",
    "SOL.add(sz.v == belt_red.belt_len)\n",
    "\n",
    "t0 = time()\n",
    "dts = []\n",
    "for cur_sz in SOL.shrinker_loop(sz, 38):\n",
    "    t1 = time()\n",
    "    dts.append(t1 - t0)\n",
    "    t0 = time()\n",
    "\n",
    "    l1 = SOL.eval(belt_red.belt_len)\n",
    "    \n",
    "    #plt.subplot(2,3, len(ss))\n",
    "    plt.gcf().set_size_inches(2,2)\n",
    "    plot_belt(belt_red, color='r')\n",
    "\n",
    "    plt.title(f'Sizes={[l1]}; sum={cur_sz} t={dts[-1]:.1f}')\n",
    "    plt.show()\n"
   ]
  },
  {
   "cell_type": "code",
   "execution_count": null,
   "metadata": {},
   "outputs": [
    {
     "data": {
      "image/png": "[encoded data removed]",
      "text/plain": [
       "<Figure size 144x144 with 1 Axes>"
      ]
     },
     "metadata": {
      "needs_background": "light"
     },
     "output_type": "display_data"
    },
    {
     "data": {
      "image/png": "[encoded data removed]",
      "text/plain": [
       "<Figure size 144x144 with 1 Axes>"
      ]
     },
     "metadata": {
      "needs_background": "light"
     },
     "output_type": "display_data"
    }
   ],
   "source": [
    "SOL.fresh_solver()\n",
    "\n",
    "belt1 = Belt()\n",
    "belt2 = Belt()\n",
    "belt3 = Belt()\n",
    "\n",
    "no_intersections(belt1, belt2)\n",
    "no_intersections(belt1, belt3)\n",
    "no_intersections(belt2, belt3)\n",
    "\n",
    "belt1.fix_ends((0,0), (4, 4))\n",
    "belt2.fix_ends((0,2), (4, 2))\n",
    "belt3.fix_ends((0,4), (4, 0))\n",
    "\n",
    "sz = IntVal()\n",
    "SOL.add(sz.v == belt1.belt_len + belt2.belt_len + belt3.belt_len)\n",
    "\n",
    "t0 = time()\n",
    "dts = []\n",
    "for cur_sz in SOL.shrinker_loop(sz, init=38, restore=False):\n",
    "    t1 = time()\n",
    "    dts.append(t1 - t0)\n",
    "    t0 = time()\n",
    "\n",
    "    l1 = SOL.eval(belt1.belt_len)\n",
    "    l2 = SOL.eval(belt2.belt_len)\n",
    "    l3 = SOL.eval(belt3.belt_len)\n",
    "    \n",
    "    #plt.subplot(2,3, len(ss))\n",
    "    plt.gcf().set_size_inches(2,2)\n",
    "    plot_belt(belt1, color='r')\n",
    "    plot_belt(belt2, color='g')\n",
    "    plot_belt(belt3, color='b')\n",
    "    plt.title(f'Sizes={[l1, l2, l3]}; sum={cur_sz} t={dts[-1]:.1f}')\n",
    "    plt.show()\n",
    "t1 = time()\n",
    "\n",
    "    "
   ]
  },
  {
   "cell_type": "code",
   "execution_count": null,
   "metadata": {},
   "outputs": [],
   "source": [
    "t1 - t0"
   ]
  },
  {
   "cell_type": "code",
   "execution_count": null,
   "metadata": {},
   "outputs": [],
   "source": []
  }
 ],
 "metadata": {
  "kernelspec": {
   "display_name": "Python 3",
   "language": "python",
   "name": "python3"
  },
  "language_info": {
   "codemirror_mode": {
    "name": "ipython",
    "version": 3
   },
   "file_extension": ".py",
   "mimetype": "text/x-python",
   "name": "python",
   "nbconvert_exporter": "python",
   "pygments_lexer": "ipython3",
   "version": "3.7.5"
  }
 },
 "nbformat": 4,
 "nbformat_minor": 2
}
