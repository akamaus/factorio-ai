{
 "cells": [
  {
   "cell_type": "code",
   "execution_count": 1,
   "metadata": {},
   "outputs": [],
   "source": [
    "from time import time\n",
    "from primitives import SOL, Not, \\\n",
    "                       IntVal, Inserter, dir_to_disp, \\\n",
    "                       Rectangle, non_intersecting_rectangles, AssemblyMachine, connection\n",
    "                        "
   ]
  },
  {
   "cell_type": "code",
   "execution_count": 47,
   "metadata": {},
   "outputs": [],
   "source": [
    "import matplotlib.pyplot as plt\n",
    "import matplotlib.patches as P\n",
    "import numpy as np\n",
    "def plot_inserter(ins: Inserter, color='y'):\n",
    "    p = ins.pos.eval()\n",
    "    tgt = ins.sink().eval()\n",
    "    d = ins.dir.eval()\n",
    "    disp = dir_to_disp(d)\n",
    "    plt.arrow((p.x+tgt.x)/2 - disp[0]/4, (p.y+tgt.y)/2-disp[1]/4, disp[0] / 50, disp[1] / 50, \n",
    "              width=0.1, length_includes_head=True, head_length=0.5,\n",
    "              color=color)\n",
    "    \n",
    "def plot_rectangle(f: Rectangle, color='r'):\n",
    "    p = f.pos.eval()\n",
    "    r = P.Rectangle((p.x-0.5+0.2, p.y-0.5+0.2), f.size_x-0.4, f.size_y-0.4, color=color)\n",
    "    plt.gca().add_patch(r)\n",
    "    \n",
    "def plot_grid(sx, sy):\n",
    "    plt.xlim(-sx,sy)\n",
    "    plt.ylim(-sx,sy)\n",
    "    plt.grid()\n",
    "    plt.gca().xaxis.set_ticks(np.arange(-sx-0.5,sy))\n",
    "    plt.gca().yaxis.set_ticks(np.arange(-sx-0.5,sy));\n",
    "    \n",
    "    plt.tick_params(\n",
    "    axis='x',          # changes apply to the x-axis\n",
    "#    which='minor',      # both major and minor ticks are affected\n",
    "    bottom=False,      # ticks along the bottom edge are off\n",
    "    top=False,         # ticks along the top edge are off\n",
    "    labelbottom=False)\n",
    "    \n",
    "    plt.tick_params(\n",
    "    axis='y',          # changes apply to the x-axis\n",
    "#    which='minor',      # both major and minor ticks are affected\n",
    "    bottom=False,      # ticks along the bottom edge are off\n",
    "    top=False,         # ticks along the top edge are off\n",
    "    labelleft=False)"
   ]
  },
  {
   "cell_type": "code",
   "execution_count": 48,
   "metadata": {},
   "outputs": [
    {
     "data": {
      "image/png": "[encoded data removed]",
      "text/plain": [
       "<Figure size 432x432 with 1 Axes>"
      ]
     },
     "metadata": {},
     "output_type": "display_data"
    }
   ],
   "source": [
    "SOL.fresh_solver()\n",
    "\n",
    "m1 = AssemblyMachine()\n",
    "m2_1 = AssemblyMachine()\n",
    "m2_2 = AssemblyMachine()\n",
    "m3 = AssemblyMachine()\n",
    "\n",
    "ins1 = Inserter()\n",
    "ins2 = Inserter()\n",
    "ins3 = Inserter()\n",
    "ins4 = Inserter()\n",
    "\n",
    "SOL.add(connection(m1, ins1, m2_1))\n",
    "SOL.add(connection(m1, ins2, m2_2))\n",
    "SOL.add(connection(m2_1, ins3, m3))\n",
    "SOL.add(connection(m2_2, ins4, m3))\n",
    "\n",
    "SOL.add(non_intersecting_rectangles(m1,m2_1,m2_2,m3))\n",
    "\n",
    "SOL.model()\n",
    "\n",
    "\n",
    "plt.figure(figsize=(6,6))\n",
    "\n",
    "for ins in [ins1, ins2, ins3, ins4]:\n",
    "    plot_inserter(ins, color='y')\n",
    "    \n",
    "plot_rectangle(m1, color='r')\n",
    "plot_rectangle(m2_1, color='g')\n",
    "plot_rectangle(m2_2, color='g')\n",
    "plot_rectangle(m3, color='b')\n",
    "\n",
    "plot_grid(10,10)"
   ]
  },
  {
   "cell_type": "code",
   "execution_count": 56,
   "metadata": {},
   "outputs": [
    {
     "data": {
      "image/png": "[encoded data removed]",
      "text/plain": [
       "<Figure size 432x432 with 1 Axes>"
      ]
     },
     "metadata": {},
     "output_type": "display_data"
    }
   ],
   "source": [
    "SOL.fresh_solver()\n",
    "\n",
    "inserters = []\n",
    "machines = []\n",
    "\n",
    "def new_machine(color):\n",
    "    m = AssemblyMachine()\n",
    "    m.color = color\n",
    "    machines.append(m)\n",
    "    return m\n",
    "\n",
    "def new_inserter():\n",
    "    ins = Inserter()\n",
    "    inserters.append(ins)\n",
    "    return ins\n",
    "\n",
    "r = 'r'\n",
    "g = 'g'\n",
    "b = 'b'\n",
    "\n",
    "m1_1 = new_machine(b)\n",
    "m1_2 = new_machine(b)\n",
    "\n",
    "m1_3 = new_machine(b)\n",
    "m1_4 = new_machine(b)\n",
    "\n",
    "m1_5 = new_machine(b)\n",
    "m1_6 = new_machine(b)\n",
    "\n",
    "m2_1 = new_machine(g)\n",
    "m2_2 = new_machine(g)\n",
    "m2_3 = new_machine(g)\n",
    "\n",
    "m3 = new_machine(r)\n",
    "\n",
    "SOL.add(connection(m1_1, new_inserter(), m2_1))\n",
    "SOL.add(connection(m1_2, new_inserter(), m2_1))\n",
    "\n",
    "SOL.add(connection(m1_3, new_inserter(), m2_2))\n",
    "SOL.add(connection(m1_4, new_inserter(), m2_2))\n",
    "\n",
    "SOL.add(connection(m1_5, new_inserter(), m2_3))\n",
    "SOL.add(connection(m1_6, new_inserter(), m2_3))\n",
    "\n",
    "SOL.add(connection(m2_1, new_inserter(), m3))\n",
    "SOL.add(connection(m2_2, new_inserter(), m3))\n",
    "SOL.add(connection(m2_3, new_inserter(), m3))\n",
    "\n",
    "SOL.add(non_intersecting_rectangles(machines))\n",
    "\n",
    "SOL.model()\n",
    "\n",
    "\n",
    "plt.figure(figsize=(6,6))\n",
    "\n",
    "for ins in inserters:\n",
    "    plot_inserter(ins, color='y')\n",
    "\n",
    "for m in machines:\n",
    "    plot_rectangle(m, color=m.color)\n",
    "\n",
    "\n",
    "plot_grid(10,10)"
   ]
  },
  {
   "cell_type": "code",
   "execution_count": null,
   "metadata": {},
   "outputs": [],
   "source": []
  }
 ],
 "metadata": {
  "kernelspec": {
   "display_name": "Python 3",
   "language": "python",
   "name": "python3"
  },
  "language_info": {
   "codemirror_mode": {
    "name": "ipython",
    "version": 3
   },
   "file_extension": ".py",
   "mimetype": "text/x-python",
   "name": "python",
   "nbconvert_exporter": "python",
   "pygments_lexer": "ipython3",
   "version": "3.7.5"
  }
 },
 "nbformat": 4,
 "nbformat_minor": 2
}
