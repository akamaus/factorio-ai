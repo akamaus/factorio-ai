{
 "cells": [
  {
   "cell_type": "code",
   "execution_count": 1,
   "metadata": {},
   "outputs": [],
   "source": [
    "from factory import Factory\n",
    "from plotting import plot_factory\n",
    "from time import time\n",
    "\n",
    "import primitives as P"
   ]
  },
  {
   "cell_type": "code",
   "execution_count": null,
   "metadata": {},
   "outputs": [],
   "source": []
  },
  {
   "cell_type": "code",
   "execution_count": 2,
   "metadata": {},
   "outputs": [
    {
     "data": {
      "text/plain": [
       "<primitives.Inserter at 0x7fa1985ae9d0>"
      ]
     },
     "execution_count": 2,
     "metadata": {},
     "output_type": "execute_result"
    }
   ],
   "source": [
    "f = Factory()\n",
    "m1 = f.new_machine(color='b')\n",
    "pl = f.new_production_line(num_machines=4, machine_size=3, num_inputs=1, color='g')\n",
    "m3 = f.new_machine(color='r')\n",
    "\n",
    "#\n",
    "f.connect_with_inserter(m1, pl.input(0))\n",
    "#f.connect_with_inserter(m3, pl.input(0))\n",
    "f.connect_with_inserter(pl.output(), m3)"
   ]
  },
  {
   "cell_type": "code",
   "execution_count": 2,
   "metadata": {},
   "outputs": [
    {
     "name": "stdout",
     "output_type": "stream",
     "text": [
      "...................................................................................................."
     ]
    }
   ],
   "source": [
    "def measure_time():\n",
    "    f = Factory()\n",
    "    m1 = f.new_machine(color='b')\n",
    "    pl = f.new_production_line(num_machines=100, machine_size=3, num_inputs=1, color='g')\n",
    "    m3 = f.new_machine(color='r')\n",
    "\n",
    "    #\n",
    "    f.connect_with_inserter(m1, pl.input(0))\n",
    "    #f.connect_with_inserter(m3, pl.input(0))\n",
    "    f.connect_with_inserter(pl.output(), m3)\n",
    "\n",
    "    model = f.finalize_and_model()\n",
    "    assert model is not None\n",
    "    return f.elapsed_time\n",
    "\n",
    "times100 = []\n",
    "#for k in range(100):\n",
    "#    times100.append(measure_time())\n",
    "#    print('.', end='', flush=True)"
   ]
  },
  {
   "cell_type": "code",
   "execution_count": 3,
   "metadata": {},
   "outputs": [],
   "source": [
    "import matplotlib.pyplot as plt"
   ]
  },
  {
   "cell_type": "code",
   "execution_count": 21,
   "metadata": {},
   "outputs": [
    {
     "data": {
      "text/plain": [
       "(array([11., 31., 23., 20.,  8.,  4.,  1.,  0.,  1.,  1.]),\n",
       " array([0.01777577, 0.01853511, 0.01929445, 0.02005379, 0.02081313,\n",
       "        0.02157247, 0.02233181, 0.02309115, 0.02385049, 0.02460983,\n",
       "        0.02536917]),\n",
       " <a list of 10 Patch objects>)"
      ]
     },
     "execution_count": 21,
     "metadata": {},
     "output_type": "execute_result"
    },
    {
     "data": {
      "image/png": "[encoded data removed]",
      "text/plain": [
       "<Figure size 432x288 with 1 Axes>"
      ]
     },
     "metadata": {
      "needs_background": "light"
     },
     "output_type": "display_data"
    }
   ],
   "source": [
    "plt.hist(times)"
   ]
  },
  {
   "cell_type": "code",
   "execution_count": 6,
   "metadata": {},
   "outputs": [
    {
     "data": {
      "text/plain": [
       "(array([ 6., 12., 16., 27., 15.,  8.,  7.,  4.,  2.,  3.]),\n",
       " array([0.02119637, 0.02177544, 0.02235451, 0.02293358, 0.02351265,\n",
       "        0.02409172, 0.02467079, 0.02524986, 0.02582893, 0.026408  ,\n",
       "        0.02698708]),\n",
       " <a list of 10 Patch objects>)"
      ]
     },
     "execution_count": 6,
     "metadata": {},
     "output_type": "execute_result"
    },
    {
     "data": {
      "image/png": "[encoded data removed]",
      "text/plain": [
       "<Figure size 432x288 with 1 Axes>"
      ]
     },
     "metadata": {
      "needs_background": "light"
     },
     "output_type": "display_data"
    }
   ],
   "source": [
    "plt.hist(times)"
   ]
  },
  {
   "cell_type": "code",
   "execution_count": 5,
   "metadata": {},
   "outputs": [
    {
     "data": {
      "text/plain": [
       "(array([ 5., 18., 33., 16., 14.,  5.,  7.,  1.,  0.,  1.]),\n",
       " array([0.01783729, 0.01850667, 0.01917605, 0.01984544, 0.02051482,\n",
       "        0.02118421, 0.02185359, 0.02252297, 0.02319236, 0.02386174,\n",
       "        0.02453113]),\n",
       " <a list of 10 Patch objects>)"
      ]
     },
     "execution_count": 5,
     "metadata": {},
     "output_type": "execute_result"
    },
    {
     "data": {
      "image/png": "[encoded data removed]",
      "text/plain": [
       "<Figure size 432x288 with 1 Axes>"
      ]
     },
     "metadata": {
      "needs_background": "light"
     },
     "output_type": "display_data"
    }
   ],
   "source": [
    "plt.hist(times100)"
   ]
  },
  {
   "cell_type": "code",
   "execution_count": 3,
   "metadata": {},
   "outputs": [
    {
     "data": {
      "image/png": "[encoded data removed]",
      "text/plain": [
       "<Figure size 432x432 with 1 Axes>"
      ]
     },
     "metadata": {},
     "output_type": "display_data"
    }
   ],
   "source": [
    "model = f.finalize_and_model()\n",
    "plot_factory(f, size=(6,6))"
   ]
  },
  {
   "cell_type": "markdown",
   "metadata": {},
   "source": [
    "# Composing large processing lines"
   ]
  },
  {
   "cell_type": "code",
   "execution_count": 1,
   "metadata": {},
   "outputs": [],
   "source": [
    "from factory import Factory\n",
    "from plotting import plot_factory\n",
    "from time import time\n",
    "\n",
    "import primitives as P"
   ]
  },
  {
   "cell_type": "code",
   "execution_count": 25,
   "metadata": {},
   "outputs": [
    {
     "data": {
      "text/plain": [
       "<primitives.Inserter at 0x7f1a05d4d290>"
      ]
     },
     "execution_count": 25,
     "metadata": {},
     "output_type": "execute_result"
    }
   ],
   "source": [
    "S1 = 6\n",
    "S2 = 4\n",
    "S3 = S2\n",
    "f = Factory()\n",
    "p1 = f.new_production_line(num_machines=S1, machine_size=2, num_inputs=0, auto_output=True, color='b')\n",
    "p2 = f.new_production_line(num_machines=S2, machine_size=3, num_inputs=1, color='g')\n",
    "p3 = f.new_production_line(num_machines=S3, machine_size=3, num_inputs=1, color='r')\n",
    "\n",
    "f.connect_with_inserter(p1.output(), p2.input(0))\n",
    "f.connect_with_inserter(p2.output(), p3.input(0))\n",
    "\n",
    "#f.connect_with_inserter(m3, pl.input(0))\n"
   ]
  },
  {
   "cell_type": "code",
   "execution_count": 26,
   "metadata": {},
   "outputs": [
    {
     "name": "stdout",
     "output_type": "stream",
     "text": [
      "LBU 0 None None\n",
      "1\n",
      "V= 53\n",
      "LBU 0 26 53\n",
      "-1\n",
      "LBU 27 40 53\n",
      "1\n",
      "V= 40\n",
      "LBU 27 33 40\n",
      "-1\n",
      "LBU 34 37 40\n",
      "1\n",
      "V= 37\n",
      "LBU 34 35 37\n",
      "-1\n",
      "LBU 36 36 37\n",
      "1\n",
      "V= 36\n"
     ]
    },
    {
     "data": {
      "image/png": "[encoded data removed]",
      "text/plain": [
       "<Figure size 432x432 with 1 Axes>"
      ]
     },
     "metadata": {},
     "output_type": "display_data"
    }
   ],
   "source": [
    "metric = f.area.size.x + f.area.size.y\n",
    "model = f.finalize_and_model(minimize_metric=metric)\n",
    "plot_factory(f, size=(6,6))"
   ]
  },
  {
   "cell_type": "code",
   "execution_count": 20,
   "metadata": {},
   "outputs": [
    {
     "data": {
      "text/plain": [
       "Point2D(0,10)"
      ]
     },
     "execution_count": 20,
     "metadata": {},
     "output_type": "execute_result"
    }
   ],
   "source": [
    "p1.output().eval()"
   ]
  },
  {
   "cell_type": "code",
   "execution_count": 13,
   "metadata": {},
   "outputs": [
    {
     "data": {
      "text/plain": [
       "Point2D(1,0)"
      ]
     },
     "execution_count": 13,
     "metadata": {},
     "output_type": "execute_result"
    }
   ],
   "source": [
    "p1.area.pos.eval()"
   ]
  },
  {
   "cell_type": "code",
   "execution_count": 22,
   "metadata": {},
   "outputs": [
    {
     "data": {
      "text/plain": [
       "<primitives.Inserter at 0x7fe10c069550>"
      ]
     },
     "execution_count": 22,
     "metadata": {},
     "output_type": "execute_result"
    }
   ],
   "source": [
    "S1 = 15\n",
    "S2 = 10\n",
    "S3 = S2\n",
    "f = Factory()\n",
    "p1 = f.new_production_line(num_machines=S1, machine_size=2, num_inputs=0, auto_output=True, color='b')\n",
    "p2 = f.new_production_line(num_machines=S2, machine_size=3, num_inputs=1, color='g')\n",
    "p3 = f.new_production_line(num_machines=S3, machine_size=3, num_inputs=1, color='r')\n",
    "\n",
    "f.connect_with_inserter(p1.output(), p2.input(0))\n",
    "f.connect_with_inserter(p2.output(), p3.input(0))"
   ]
  },
  {
   "cell_type": "code",
   "execution_count": 23,
   "metadata": {},
   "outputs": [
    {
     "name": "stdout",
     "output_type": "stream",
     "text": [
      "LBU 0 None None\n",
      "1\n",
      "V= 49\n",
      "LBU 0 24 49\n",
      "-1\n",
      "LBU 25 37 49\n",
      "-1\n",
      "LBU 38 43 49\n",
      "-1\n",
      "LBU 44 46 49\n",
      "-1\n",
      "LBU 47 48 49\n",
      "-1\n"
     ]
    },
    {
     "data": {
      "image/png": "[encoded data removed]",
      "text/plain": [
       "<Figure size 432x432 with 1 Axes>"
      ]
     },
     "metadata": {},
     "output_type": "display_data"
    }
   ],
   "source": [
    "metric = f.area.size.x + f.area.size.y\n",
    "model = f.finalize_and_model(minimize_metric=metric)\n",
    "plot_factory(f, size=(6,6))"
   ]
  },
  {
   "cell_type": "code",
   "execution_count": 2,
   "metadata": {},
   "outputs": [
    {
     "data": {
      "text/plain": [
       "<primitives.Inserter at 0x7f39a4fbd0d0>"
      ]
     },
     "execution_count": 2,
     "metadata": {},
     "output_type": "execute_result"
    }
   ],
   "source": [
    "S1 = 6\n",
    "S2 = 4\n",
    "S3 = S2\n",
    "f = Factory()\n",
    "r1 = f.new_production_line(num_machines=S1, machine_size=2, num_inputs=0, auto_output=True, color='b')\n",
    "r2 = f.new_production_line(num_machines=S1, machine_size=2, num_inputs=0, auto_output=True, color='g')\n",
    "p1 = f.new_production_line(num_machines=S2, machine_size=3, num_inputs=2, color='y')\n",
    "p2 = f.new_production_line(num_machines=S2, machine_size=3, num_inputs=1, color='r')\n",
    "#p3 = f.new_production_line(num_machines=S3, machine_size=3, num_inputs=1, color='r')\n",
    "\n",
    "f.connect_with_inserter(r1.output(), p1.input(0))\n",
    "f.connect_with_inserter(r2.output(), p1.input(1))\n",
    "f.connect_with_inserter(p1.output(), p2.input(0))"
   ]
  },
  {
   "cell_type": "code",
   "execution_count": 3,
   "metadata": {},
   "outputs": [
    {
     "name": "stdout",
     "output_type": "stream",
     "text": [
      "LBU 0 None None\n",
      "1\n",
      "V= 45\n",
      "LBU 0 22 45\n",
      "-1\n",
      "LBU 23 34 45\n",
      "-1\n",
      "LBU 35 40 45\n",
      "1\n",
      "V= 40\n",
      "LBU 35 37 40\n",
      "1\n",
      "V= 37\n",
      "LBU 35 36 37\n",
      "-1\n"
     ]
    },
    {
     "data": {
      "image/png": "[encoded data removed]",
      "text/plain": [
       "<Figure size 432x432 with 1 Axes>"
      ]
     },
     "metadata": {},
     "output_type": "display_data"
    }
   ],
   "source": [
    "metric = f.area.size.x + f.area.size.y\n",
    "model = f.finalize_and_model(minimize_metric=metric)\n",
    "#model = f.finalize_and_model()\n",
    "plot_factory(f, size=(6,6))"
   ]
  },
  {
   "cell_type": "code",
   "execution_count": null,
   "metadata": {},
   "outputs": [],
   "source": []
  },
  {
   "cell_type": "code",
   "execution_count": 50,
   "metadata": {},
   "outputs": [
    {
     "data": {
      "text/plain": [
       "(Point2D(0,2), Point2D(0,4))"
      ]
     },
     "execution_count": 50,
     "metadata": {},
     "output_type": "execute_result"
    }
   ],
   "source": [
    "p1.output().eval(), p2.input(0).eval()"
   ]
  },
  {
   "cell_type": "code",
   "execution_count": 40,
   "metadata": {},
   "outputs": [
    {
     "data": {
      "text/plain": [
       "Point2D(11,10)"
      ]
     },
     "execution_count": 40,
     "metadata": {},
     "output_type": "execute_result"
    }
   ],
   "source": [
    "p2.output().eval()"
   ]
  },
  {
   "cell_type": "code",
   "execution_count": 43,
   "metadata": {},
   "outputs": [
    {
     "data": {
      "text/plain": [
       "Point2D(0,12)"
      ]
     },
     "execution_count": 43,
     "metadata": {},
     "output_type": "execute_result"
    }
   ],
   "source": [
    "p3.input(0).eval()"
   ]
  },
  {
   "cell_type": "code",
   "execution_count": null,
   "metadata": {},
   "outputs": [],
   "source": []
  }
 ],
 "metadata": {
  "kernelspec": {
   "display_name": "Python 3",
   "language": "python",
   "name": "python3"
  },
  "language_info": {
   "codemirror_mode": {
    "name": "ipython",
    "version": 3
   },
   "file_extension": ".py",
   "mimetype": "text/x-python",
   "name": "python",
   "nbconvert_exporter": "python",
   "pygments_lexer": "ipython3",
   "version": "3.7.6"
  }
 },
 "nbformat": 4,
 "nbformat_minor": 4
}
